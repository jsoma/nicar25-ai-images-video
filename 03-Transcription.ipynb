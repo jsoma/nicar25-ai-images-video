{
 "cells": [
  {
   "cell_type": "markdown",
   "metadata": {},
   "source": [
    "# Transcribing videos\n",
    "\n",
    "Why might you transcribe videos? Because watching each and every video takes *so long!* To see a use case, check out Lam Thuy Vo's [Misinformation on TikTok: How 'Documented' Examined Hundreds of Videos in Different Languages](https://pulitzercenter.org/misinformation-tiktok-how-documented-examined-hundreds-videos-different-languages), or any of the ten thousand projects local newsrooms are doing about transcribing community meetings from YouTube.\n",
    "\n",
    "> YouTube transcripts are awful. Terrible. So bad. Don't ever trust them.\n",
    "\n",
    "## Our favorite (local, DIY) transcription tool: Whisper\n",
    "\n",
    "OpenAI has released other AI tools besides ChatGPT – one of the most popular is [Whisper](https://openai.com/research/whisper), a model that can **transcribe audio**. The fact, technical name for this is \"speech to text.\"\n",
    "\n",
    "Unlike GPT, **you can actually download and use Whisper**. Python programmers can bop on over to [the GitHub repo](https://github.com/openai/whisper) and coding with it minutes.\n",
    "\n",
    "Because Whisper is freely available to use and adapt, you'll see all sorts of Whisper-powered tools out there. [MacWhisper](https://goodsnooze.gumroad.com/l/macwhisper) allows you to transcribe audio from the safety of your mac - powered by Whisper! [This random website](https://whisperui.com/) allows to drag-and-drop audio files and transcribe them on the web – powered by Whisper!\n",
    "\n",
    "And now we'll do the exact same thing right here, in Python – powered by Whisper!\n",
    "\n",
    "## But... Whisper is actually bad!\n",
    "\n",
    "[According to everyone](https://apnews.com/article/ai-artificial-intelligence-health-business-90020cdf5fa16c79ca2e5b6c4c9bbb14), and the excellently-named paper [Careless Whisper: Speech-to-Text Hallucination Harms](https://dl.acm.org/doi/10.1145/3630106.3658996), Whiper makes *a lot of bad mistakes.*\n",
    "\n",
    "> In an example they uncovered, a speaker said, “He, the boy, was going to, I’m not sure exactly, take the umbrella.”\n",
    ">\n",
    "> But the transcription software added: “He took a big piece of a cross, a teeny, small piece ... I’m sure he didn’t have a terror knife so he killed a number of people.”\n",
    "\n",
    "One of the biggest problems is **silence**. Like human beings, Whisper isn't very good at dealing with silence! It's trained to transcribe transcribe transcribe, so when there's silence it tends to start writing regardless of what's going on.\n",
    "\n",
    "One way to fix this is **voice activity detection**, which cuts out silences before it transcribes.\n",
    "\n",
    "Even though we can use [the original Whisper](https://github.com/openai/whisper) for transcription, other people have build *other* Python tools on top of it. As a result, we have great libraries like [WhisperX](https://github.com/m-bain/whisperX) which had add-ons like VAD, speaker diarization (splitting speakers!) and more. It's a little more unwieldy to use, but it's worth it."
   ]
  },
  {
   "cell_type": "code",
   "execution_count": 1,
   "metadata": {},
   "outputs": [
    {
     "name": "stdout",
     "output_type": "stream",
     "text": [
      "\u001b[31mERROR: pip's dependency resolver does not currently take into account all the packages that are installed. This behaviour is the source of the following dependency conflicts.\n",
      "pyppeteer 2.0.0 requires websockets<11.0,>=10.0, but you have websockets 14.2 which is incompatible.\n",
      "gradio-client 0.10.1 requires websockets<12.0,>=10.0, but you have websockets 14.2 which is incompatible.\u001b[0m\u001b[31m\n",
      "\u001b[0m\n",
      "\u001b[1m[\u001b[0m\u001b[34;49mnotice\u001b[0m\u001b[1;39;49m]\u001b[0m\u001b[39;49m A new release of pip is available: \u001b[0m\u001b[31;49m23.0.1\u001b[0m\u001b[39;49m -> \u001b[0m\u001b[32;49m25.0\u001b[0m\n",
      "\u001b[1m[\u001b[0m\u001b[34;49mnotice\u001b[0m\u001b[1;39;49m]\u001b[0m\u001b[39;49m To update, run: \u001b[0m\u001b[32;49mpip install --upgrade pip\u001b[0m\n",
      "Note: you may need to restart the kernel to use updated packages.\n"
     ]
    }
   ],
   "source": [
    "%pip install --quiet --upgrade \"yt-dlp[default]\"\n",
    "%pip install --quiet --upgrade whisperx \"torch<2.6\" torchaudio torchvision"
   ]
  },
  {
   "cell_type": "markdown",
   "metadata": {},
   "source": [
    "# Downloading our video\n",
    "\n",
    "Maybe we've talked about [yt-dlp](https://github.com/yt-dlp/yt-dlp) already, I'm covering it in like *every single session*! I usually show off the command-line version, but in this situation I'll show you what it looks like when you're using **pure Python.** We're going to automatically download the mp3 of the audio instead of the visual part of the video.\n",
    "\n",
    "> I refuse to memorize these commands, I always [look them up with an LLM](https://chatgpt.com/share/67c73c6b-5424-800d-9cf0-ef403a9a8410). As long as you keep yt-dlp updated, it's simple to do things like \"download this whole playlist\" or \"the most recent 5 videos on this account.\""
   ]
  },
  {
   "cell_type": "code",
   "execution_count": 6,
   "metadata": {},
   "outputs": [
    {
     "name": "stdout",
     "output_type": "stream",
     "text": [
      "[youtube] Extracting URL: https://www.youtube.com/watch?v=s-4yh3XY5wU\n",
      "[youtube] s-4yh3XY5wU: Downloading webpage\n",
      "[youtube] s-4yh3XY5wU: Downloading tv client config\n",
      "[youtube] s-4yh3XY5wU: Downloading player 5ae7d525\n",
      "[youtube] s-4yh3XY5wU: Downloading tv player API JSON\n",
      "[youtube] s-4yh3XY5wU: Downloading ios player API JSON\n",
      "[youtube] s-4yh3XY5wU: Downloading m3u8 information\n",
      "[info] s-4yh3XY5wU: Downloading 1 format(s): 251\n",
      "[download] output.mp3 has already been downloaded\n",
      "[download] 100% of   10.00MiB\n",
      "[ExtractAudio] Not converting audio output.mp3; file is already in target format mp3\n"
     ]
    }
   ],
   "source": [
    "import yt_dlp\n",
    "\n",
    "url = \"https://www.youtube.com/watch?v=s-4yh3XY5wU\"\n",
    "\n",
    "ydl_opts = {\n",
    "    \"format\": \"bestaudio/best\",\n",
    "    \"outtmpl\": \"output.mp3\",\n",
    "    \"postprocessors\": [\n",
    "        {\n",
    "            \"key\": \"FFmpegExtractAudio\",\n",
    "            \"preferredcodec\": \"mp3\",\n",
    "            \"preferredquality\": \"192\",\n",
    "        }\n",
    "    ],\n",
    "}\n",
    "\n",
    "with yt_dlp.YoutubeDL(ydl_opts) as ydl:\n",
    "    ydl.download([url])"
   ]
  },
  {
   "cell_type": "markdown",
   "metadata": {},
   "source": [
    "## Transcribe with WhisperX\n",
    "\n",
    "Just like any other AI thing, Whisper isn't just one piece of software - it's a *collection of models* with different sizes and names that you have to download separately.\n",
    "\n",
    "You can see [the models here](https://github.com/openai/whisper?tab=readme-ov-file#available-models-and-languages). We're going to start with `tiny.en`, an English-only model that is the smallest and fastest."
   ]
  },
  {
   "cell_type": "code",
   "execution_count": 61,
   "metadata": {},
   "outputs": [
    {
     "name": "stderr",
     "output_type": "stream",
     "text": [
      "Lightning automatically upgraded your loaded checkpoint from v1.5.4 to v2.0.7. To apply the upgrade to your files permanently, run `python -m pytorch_lightning.utilities.upgrade_checkpoint --file ../../../../../../../../.pyenv/versions/3.10.13/lib/python3.10/site-packages/whisperx/assets/pytorch_model.bin`\n"
     ]
    },
    {
     "name": "stdout",
     "output_type": "stream",
     "text": [
      "Model was trained with pyannote.audio 0.0.1, yours is 3.3.2. Bad things might happen unless you revert pyannote.audio to 0.x.\n",
      "Model was trained with torch 1.10.0+cu102, yours is 2.5.1. Bad things might happen unless you revert torch to 1.x.\n",
      "Transcribed\n",
      "Aligned\n",
      "CPU times: user 3min 52s, sys: 1min 1s, total: 4min 53s\n",
      "Wall time: 52.7 s\n"
     ]
    }
   ],
   "source": [
    "%%time\n",
    "\n",
    "import whisperx\n",
    "import torch\n",
    "\n",
    "audio_file = \"output.mp3\"\n",
    "\n",
    "device = \"cuda\" if torch.cuda.is_available() else \"cpu\"\n",
    "batch_size = 16 if device == \"cuda\" else 8\n",
    "compute_type = \"float16\" if device == \"cuda\" else \"float32\" \n",
    "\n",
    "model = whisperx.load_model(\"tiny.en\", device, compute_type=compute_type)\n",
    "\n",
    "audio = whisperx.load_audio(audio_file)\n",
    "result = model.transcribe(audio, batch_size=batch_size)\n",
    "print(\"Transcribed\")\n",
    "\n",
    "model_a, metadata = whisperx.load_align_model(language_code=result[\"language\"], device=device)\n",
    "result = whisperx.align(result[\"segments\"], model_a, metadata, audio, device, return_char_alignments=False)\n",
    "print(\"Aligned\")"
   ]
  },
  {
   "cell_type": "markdown",
   "metadata": {},
   "source": [
    "We can look at the output with timecodes..."
   ]
  },
  {
   "cell_type": "code",
   "execution_count": 62,
   "metadata": {},
   "outputs": [
    {
     "data": {
      "text/html": [
       "<div>\n",
       "<style scoped>\n",
       "    .dataframe tbody tr th:only-of-type {\n",
       "        vertical-align: middle;\n",
       "    }\n",
       "\n",
       "    .dataframe tbody tr th {\n",
       "        vertical-align: top;\n",
       "    }\n",
       "\n",
       "    .dataframe thead th {\n",
       "        text-align: right;\n",
       "    }\n",
       "</style>\n",
       "<table border=\"1\" class=\"dataframe\">\n",
       "  <thead>\n",
       "    <tr style=\"text-align: right;\">\n",
       "      <th></th>\n",
       "      <th>start</th>\n",
       "      <th>end</th>\n",
       "      <th>text</th>\n",
       "      <th>words</th>\n",
       "    </tr>\n",
       "  </thead>\n",
       "  <tbody>\n",
       "    <tr>\n",
       "      <th>0</th>\n",
       "      <td>0.271</td>\n",
       "      <td>2.054</td>\n",
       "      <td>Hello and welcome to Vancouver Carpenter.</td>\n",
       "      <td>[{'word': 'Hello', 'start': 0.271, 'end': 0.53...</td>\n",
       "    </tr>\n",
       "    <tr>\n",
       "      <th>1</th>\n",
       "      <td>2.634</td>\n",
       "      <td>7.841</td>\n",
       "      <td>If you're new to drywall, picking the right mu...</td>\n",
       "      <td>[{'word': 'If', 'start': 2.634, 'end': 2.694, ...</td>\n",
       "    </tr>\n",
       "    <tr>\n",
       "      <th>2</th>\n",
       "      <td>7.881</td>\n",
       "      <td>12.506</td>\n",
       "      <td>We've got light mud, we've got all purpose, we...</td>\n",
       "      <td>[{'word': 'We've', 'start': 7.881, 'end': 8.06...</td>\n",
       "    </tr>\n",
       "    <tr>\n",
       "      <th>3</th>\n",
       "      <td>13.087</td>\n",
       "      <td>15.090</td>\n",
       "      <td>So it's hard to know exactly which mud to choose.</td>\n",
       "      <td>[{'word': 'So', 'start': 13.087, 'end': 13.187...</td>\n",
       "    </tr>\n",
       "    <tr>\n",
       "      <th>4</th>\n",
       "      <td>15.670</td>\n",
       "      <td>18.592</td>\n",
       "      <td>So I'm going to help break that down for you ...</td>\n",
       "      <td>[{'word': 'So', 'start': 15.67, 'end': 15.87, ...</td>\n",
       "    </tr>\n",
       "  </tbody>\n",
       "</table>\n",
       "</div>"
      ],
      "text/plain": [
       "    start     end                                               text  \\\n",
       "0   0.271   2.054          Hello and welcome to Vancouver Carpenter.   \n",
       "1   2.634   7.841  If you're new to drywall, picking the right mu...   \n",
       "2   7.881  12.506  We've got light mud, we've got all purpose, we...   \n",
       "3  13.087  15.090  So it's hard to know exactly which mud to choose.   \n",
       "4  15.670  18.592   So I'm going to help break that down for you ...   \n",
       "\n",
       "                                               words  \n",
       "0  [{'word': 'Hello', 'start': 0.271, 'end': 0.53...  \n",
       "1  [{'word': 'If', 'start': 2.634, 'end': 2.694, ...  \n",
       "2  [{'word': 'We've', 'start': 7.881, 'end': 8.06...  \n",
       "3  [{'word': 'So', 'start': 13.087, 'end': 13.187...  \n",
       "4  [{'word': 'So', 'start': 15.67, 'end': 15.87, ...  "
      ]
     },
     "execution_count": 62,
     "metadata": {},
     "output_type": "execute_result"
    }
   ],
   "source": [
    "import pandas as pd\n",
    "\n",
    "df = pd.json_normalize(result['segments'])\n",
    "df.head()"
   ]
  },
  {
   "cell_type": "markdown",
   "metadata": {},
   "source": [
    "...or we can just grab the text."
   ]
  },
  {
   "cell_type": "code",
   "execution_count": 63,
   "metadata": {},
   "outputs": [
    {
     "name": "stdout",
     "output_type": "stream",
     "text": [
      " Hello and welcome to Vancouver Carpenter. If you're new to drywall, picking the right mud can be kind of a daunting task with so many different types. We've got light mud, we've got all purpose, we've got heavyweight, we've got topping, we've got joint. So it's hard to know exactly which mud to choose.  So I'm going to help break that down for you so you can know which one to pick. We're also going to do this in the order that we tape with. So first we're going to start with quick set mugs. So these are the powdered mugs that are bought in bag form. So one of the ones we use a lot here in Western Canada and this isn't available everywhere but it's called concrete fill. So the specific purpose of this mud right here  is actually for skimming out concrete ceilings. So it's got really good adhesion and it's got some light aggregate in it, which I believe is something like pear light. So it's squishy, not like sand.  So that's for skimming out ceilings. It has a really great floatability, but you're not gonna find it everywhere. Hamilton Ultra Fill is another product. It's the same product, basically, just in a different bag from a different company. So we use this for floating big areas, filling large voids. I also use it for jobs where I'm taping with mesh tape. It's a quick setting compound that has about an hour to set. So next, let's get into another quick set. So this one is just your standard 20-minute lead. This is a certain teeth product.  Light sand plus it says light sand because it's supposed to be sandable, but it's not very sandable So this is another product that is suitable for taping with  mesh tape on patches and jobs that you're just not worried about cracking. So this stuff is very hard. It doesn't shrink and I mostly just use it for pre-fill or jobs where I'm trying to get in and out in a day. It sets in about 20 to 30 minutes so you can apply subsequent coats. Now something that most people don't understand about setting muds  They are quick set, not quick drive. If you apply three coats in one day, you still need to wait three or four days for that to drive properly. All it does is allow you to apply a bunch of coats in one day so you don't have to do multiple trips. And it also allows you to do deep fills, like you can fill things up to easily half inch deep, if not deeper, without it shrinking and cracking. So it doesn't do all the weird things that regular mud will do.  So once you've done your pre-filling, the next thing to go on to is some sort of a taping mud. So here in Canada we have what's called light taping mud. So this one says light weight taping.  And this box here is also a taping mud. So in Canada, all of our mud is light. So what that means is in the states, there's actually heavyweight mud. And we'll get into that a little bit when I get into all purpose. So this mud is specifically for laying paper tape. It doesn't coat nicely. It gets bubbles.  And it shrinks a lot and it's harder to sand. So it's specifically for laying tape. It has tons of glue in it. And because it's light, it's not too heavy if you're using, say, automatic taping tools or just carrying around a pan of mud is not too heavy. So next we're going to get into all purpose months. So right here, I have light all purpose.  So it's important to make a distinction. I've been saying light a lot and that's because pretty much all mods up here in Canada are light. And what that means is I'm not sure when they stopped using the regular heavyweight formula and switched over to light. It was maybe in the 80s or 90s.  But a heavyweight mud like your regular sheet rock green lid, USG or your pro form black lid, these mugs that you guys have down in the States that is a regular heavyweight mud is literally twice the weight. You lift up a bucket of  that. If you're a Canadian and you go to pick up a bucket of heavyweight and you've been lifting lightweight buckets your whole life you're gonna oh my goodness because this stuff is just heavy it's a totally different beast and a lot of the time I've been on drywall forms where Canadian tapers are giving the Americans a really hard time. What are you taping with all purpose for?  The thing is, us Canadians don't know that in the states there's a lot of places that don't have taping mud and they don't have light mud. They only have this all-purpose stuff. It's a real bear to work with. It stands horribly, so it's a totally different animal than the light muds we have up here in Canada. Very sticky and very strong.  So let's get into the Canadian lightweight all purpose. So you can tape with it, but it is not as good as a regular mud. So I'd say a light all purpose mud for taping is good enough to give the customer a tailgate warranty. And what that means is when you can't see the tailgate of the contractor anymore, your warranty is expired.  So I carry this stuff around because it's all right for taping things like inside corners and it's good for taping things in a pinch and it also has better adhesion over say glossy paints and things like that than your classic finish. All purpose mud is also one of the only things you should be coating steel beads with.  The real question is, why are you still installing steel beads? So next let's get into finished muds. So right here we've got a classic finish, which just means it's a topping mud. So this mud is not suitable for taping. It is not suitable for coating steel or vinyl beads. But what it is suitable for is getting nice smooth coats with relatively few bubbles on your first coat. And it polishes out really nicely on your final coat. It's also easier to sand.  So in terms of hardness of sanding, taping and the heavyweight all purpose, you don't want to sand that stuff. Light all purpose is pretty darn easy to sand. A comparable product in the States would be USG plus 3. That's a light all purpose. But this stuff is very easy to sand.  If you use a coarse grit of sandpaper like a 120 or sometimes even a 150 on a finish mud, you're going to scratch the crap out of it. So it's very easy to sand, but that also means that you need to be more careful with it when sanding and that it's not going to leave as durable a finish on the customer's wall.  Although in all honesty, we're talking about drywall, not plaster concrete. No matter what drywall you're using, it's going to leave a cheap finish on the wall because drywall's a cheap product, but that's a whole other debate. So the ideal scenario for using something like an all-purpose is when you're doing a really small job like a bunch of patches or a small bathroom.  So you're going to use mesh tape and quick set on your flats and your butt joints and you're going to use paper tape and all purpose for your inside corners. I would probably also install my corner beads with quick set and you're going to get a first coat on everything and a coat on your inside corners with the all purpose and then you're going to do a finished coat with the all purpose.  So it's handy to have if you don't want to carry two different buckets around. You just want one bucket for one job. So for large jobs, what I like to have is I like to have a bag called fill for the deep fills and for pre-filling everything. I like to have taping mud and paper tape because it's the strongest and longest lasting. And then I like to have finished mud because it spreads the nicest and because I get the least pinholes and it sands easily.  So this is for big jobs and then the quick set and then all purpose for the little jobs. So I hope that helps answer some of your questions if you've been wondering about what are all these different types of drywall mods and maybe get a little overwhelmed when you're at the Home Depot. So thanks for watching. See you in the next video.\n"
     ]
    }
   ],
   "source": [
    "tiny_en_text = ' '.join([segment['text'] for segment in result['segments']])\n",
    "print(tiny_en_text)"
   ]
  },
  {
   "cell_type": "markdown",
   "metadata": {},
   "source": [
    "Around one minute to transcribe 7 minutes of audio. Not awful, I guess!\n",
    "\n",
    "Whisper models go all the way up to **large-v3**, but it's pretty slow! OpenAI recommends you use their new-ish **turbo** model, which is just about as good as the large models but much much faster."
   ]
  },
  {
   "cell_type": "code",
   "execution_count": 64,
   "metadata": {},
   "outputs": [
    {
     "name": "stdout",
     "output_type": "stream",
     "text": [
      "No language specified, language will be first be detected for each audio file (increases inference time).\n"
     ]
    },
    {
     "name": "stderr",
     "output_type": "stream",
     "text": [
      "Lightning automatically upgraded your loaded checkpoint from v1.5.4 to v2.0.7. To apply the upgrade to your files permanently, run `python -m pytorch_lightning.utilities.upgrade_checkpoint --file ../../../../../../../../.pyenv/versions/3.10.13/lib/python3.10/site-packages/whisperx/assets/pytorch_model.bin`\n"
     ]
    },
    {
     "name": "stdout",
     "output_type": "stream",
     "text": [
      "Model was trained with pyannote.audio 0.0.1, yours is 3.3.2. Bad things might happen unless you revert pyannote.audio to 0.x.\n",
      "Model was trained with torch 1.10.0+cu102, yours is 2.5.1. Bad things might happen unless you revert torch to 1.x.\n",
      "Detected language: en (1.00) in first 30s of audio...\n",
      "Transcribed\n",
      "Aligned\n",
      "CPU times: user 7min 13s, sys: 2min, total: 9min 13s\n",
      "Wall time: 2min 19s\n"
     ]
    }
   ],
   "source": [
    "%%time\n",
    "\n",
    "import whisperx\n",
    "import torch\n",
    "\n",
    "audio_file = \"output.mp3\"\n",
    "\n",
    "device = \"cuda\" if torch.cuda.is_available() else \"cpu\"\n",
    "batch_size = 16 if device == \"cuda\" else 8\n",
    "compute_type = \"float16\" if device == \"cuda\" else \"float32\" \n",
    "\n",
    "model = whisperx.load_model(\"turbo\", device, compute_type=compute_type)\n",
    "\n",
    "audio = whisperx.load_audio(audio_file)\n",
    "result = model.transcribe(audio, batch_size=batch_size)\n",
    "print(\"Transcribed\")\n",
    "\n",
    "model_a, metadata = whisperx.load_align_model(language_code=result[\"language\"], device=device)\n",
    "result = whisperx.align(result[\"segments\"], model_a, metadata, audio, device, return_char_alignments=False)\n",
    "print(\"Aligned\")"
   ]
  },
  {
   "cell_type": "markdown",
   "metadata": {},
   "source": [
    "It took two minutes on the \"turbo\" setting."
   ]
  },
  {
   "cell_type": "code",
   "execution_count": 65,
   "metadata": {},
   "outputs": [
    {
     "name": "stdout",
     "output_type": "stream",
     "text": [
      " Hello and welcome to Vancouver Carpenter. If you're new to drywall, picking the right mud can be kind of a daunting task with so many different types. We've got light mud, we've got all purpose, we've got heavy weight, we've got topping, we've got joint. So it's hard to know exactly which mud to choose.  So, I'm going to help break that down for you so you can know which one to pick. We're also going to do this in the order that we tape with. So, first we're going to start with quick set muds. So, these are the powdered mugs that are bought in bag form. So, one of the ones we use a lot here in Western Canada, and this isn't available everywhere, but it's called concrete fill. So, the specific purpose of this mud, right here,  is actually for skimming out concrete ceilings. So it's got really good adhesion and it's got some light aggregate in it, which I believe is something like perlite. So it's squishy, not like sand.  So that's for skimming out ceilings. It has really great floatability, but you're not going to find it everywhere. Hamilton Ultra Fill is another product. It's the same product, basically, just in a different bag from a different company. So we use this for floating big areas, filling large voids. I also use it for jobs where I'm taping with mesh tape. It's a quick setting compound that has about an hour to set. So next, let's get into another quick set. So this one is just your standard 20 minute mud. This is a CertainTeed product.  light sand plus it says l\n"
     ]
    }
   ],
   "source": [
    "turbo_text = ' '.join([segment['text'] for segment in result['segments']])\n",
    "\n",
    "# First 1500 characters\n",
    "print(turbo_text[:1500])"
   ]
  },
  {
   "cell_type": "markdown",
   "metadata": {},
   "source": [
    "## Comparing transcripts\n",
    "\n",
    "There's no good comparison library in Python! I like to just throw files into [VS Code](https://code.visualstudio.com/) and do it manually, but we'll do a little DIY situation to compare here."
   ]
  },
  {
   "cell_type": "code",
   "execution_count": 89,
   "metadata": {},
   "outputs": [
    {
     "name": "stdout",
     "output_type": "stream",
     "text": [
      "^C\n",
      "ERROR: Operation cancelled by user\n",
      "Note: you may need to restart the kernel to use updated packages.\n"
     ]
    }
   ],
   "source": [
    "%pip install --quiet --upgrade rich diff_match_patch"
   ]
  },
  {
   "cell_type": "code",
   "execution_count": 88,
   "metadata": {},
   "outputs": [
    {
     "data": {
      "text/html": [
       "<pre style=\"white-space:pre;overflow-x:auto;line-height:normal;font-family:Menlo,'DejaVu Sans Mono',consolas,'Courier New',monospace\"> Hello and welcome to Vancouver Carpenter. If you're new to drywall, picking the right mud can be \n",
       "kind of a daunting task with so many different types. We've got light mud, we've got all purpose, \n",
       "we've got heavy<span style=\"color: #000000; text-decoration-color: #000000; background-color: #ccffcc\"> </span>weight, we've got topping, we've got joint. So it's hard to know exactly which mud \n",
       "to choose.  So<span style=\"color: #000000; text-decoration-color: #000000; background-color: #ccffcc\">,</span> I'm going to help break that down for you so you can know which one to pick. We're \n",
       "also going to do this in the order that we tape with. So<span style=\"color: #000000; text-decoration-color: #000000; background-color: #ccffcc\">,</span> first we're going to start with quick set \n",
       "mu<span style=\"color: #000000; text-decoration-color: #000000; background-color: #ffcccc\">g</span><span style=\"color: #000000; text-decoration-color: #000000; background-color: #ccffcc\">d</span>s. So<span style=\"color: #000000; text-decoration-color: #000000; background-color: #ccffcc\">,</span> these are the powdered mugs that are bought in bag form. So<span style=\"color: #000000; text-decoration-color: #000000; background-color: #ccffcc\">,</span> one of the ones we use a lot\n",
       "here in Western Canada<span style=\"color: #000000; text-decoration-color: #000000; background-color: #ccffcc\">,</span> and this isn't available everywhere<span style=\"color: #000000; text-decoration-color: #000000; background-color: #ccffcc\">,</span> but it's called concrete fill. So<span style=\"color: #000000; text-decoration-color: #000000; background-color: #ccffcc\">,</span> the \n",
       "specific purpose of this mud<span style=\"color: #000000; text-decoration-color: #000000; background-color: #ccffcc\">,</span> right here<span style=\"color: #000000; text-decoration-color: #000000; background-color: #ccffcc\">,</span>  is actually for skimming out concrete ceilings. So it's \n",
       "got really good adhesion and it's got some light aggregate in it, which I believe is something like \n",
       "pe<span style=\"color: #000000; text-decoration-color: #000000; background-color: #ffcccc\">ar light</span><span style=\"color: #000000; text-decoration-color: #000000; background-color: #ccffcc\">rlite</span>. So it's squishy, not like sand.  So that's for skimming out ceilings. It has <span style=\"color: #000000; text-decoration-color: #000000; background-color: #ffcccc\">a </span>\n",
       "really great floatability, but you're not go<span style=\"color: #000000; text-decoration-color: #000000; background-color: #ffcccc\">nna</span><span style=\"color: #000000; text-decoration-color: #000000; background-color: #ccffcc\">ing to</span> find it everywhere. Hamilton Ultra Fill is \n",
       "another product. It's the same product, basically, just in a different bag from a different company.\n",
       "So we use this for floating big areas, filling large voids. I also use it for jobs where I'm taping \n",
       "with mesh tape. It's a quick setting compound that has about an hour to set. So next, let's get into\n",
       "another quick set. So this one is just your standard <span style=\"color: #008080; text-decoration-color: #008080; font-weight: bold\">20</span><span style=\"color: #000000; text-decoration-color: #000000; background-color: #ffcccc\">-</span><span style=\"color: #000000; text-decoration-color: #000000; background-color: #ccffcc\"> </span>minute <span style=\"color: #000000; text-decoration-color: #000000; background-color: #ffcccc\">lea</span><span style=\"color: #000000; text-decoration-color: #000000; background-color: #ccffcc\">mu</span>d. This is a <span style=\"color: #000000; text-decoration-color: #000000; background-color: #ffcccc\">c</span><span style=\"color: #000000; text-decoration-color: #000000; background-color: #ccffcc\">C</span>ertain<span style=\"color: #000000; text-decoration-color: #000000; background-color: #ffcccc\"> teeth</span><span style=\"color: #000000; text-decoration-color: #000000; background-color: #ccffcc\">Teed</span>\n",
       "product.  <span style=\"color: #000000; text-decoration-color: #000000; background-color: #ffcccc\">L</span><span style=\"color: #000000; text-decoration-color: #000000; background-color: #ccffcc\">l</span>ight sand plus it says light sand because it's supposed to be sandable<span style=\"color: #000000; text-decoration-color: #000000; background-color: #ffcccc\">,</span> but it's not \n",
       "very sandable <span style=\"color: #000000; text-decoration-color: #000000; background-color: #ffcccc\">S</span><span style=\"color: #000000; text-decoration-color: #000000; background-color: #ccffcc\">s</span>o this is another product that is suitable for taping with  mesh tape on patches and\n",
       "jobs that you're just not worried about cracking. So this stuff is very hard<span style=\"color: #000000; text-decoration-color: #000000; background-color: #ffcccc\">. I</span><span style=\"color: #000000; text-decoration-color: #000000; background-color: #ccffcc\">, i</span>t doesn't shrink<span style=\"color: #000000; text-decoration-color: #000000; background-color: #ccffcc\">,</span> \n",
       "and I mostly just use it for pre-fill or jobs where I'm trying to get in and out in a day. It sets \n",
       "in about <span style=\"color: #008080; text-decoration-color: #008080; font-weight: bold\">20</span> to <span style=\"color: #008080; text-decoration-color: #008080; font-weight: bold\">30</span> minutes so you can apply subsequent coats. Now<span style=\"color: #000000; text-decoration-color: #000000; background-color: #ccffcc\">,</span> something that most people don't \n",
       "understand about setting muds  They are quick set, not quick dr<span style=\"color: #000000; text-decoration-color: #000000; background-color: #ffcccc\">ive</span><span style=\"color: #000000; text-decoration-color: #000000; background-color: #ccffcc\">y</span>. If you apply three coats in one\n",
       "day, you still need to wait three or four days for that to dr<span style=\"color: #000000; text-decoration-color: #000000; background-color: #ffcccc\">ive</span><span style=\"color: #000000; text-decoration-color: #000000; background-color: #ccffcc\">y</span> properly. All it does is allow you\n",
       "to apply a bunch of coats in one day so you don't have to do multiple trips. And it also allows you \n",
       "to do deep fills, like you can fill things up to easily half inch deep, if not deeper, without it \n",
       "shrinking and cracking. So it doesn't do all the weird things that regular mud will do.  So once \n",
       "you've done your pre-filling, the next thing to go on to is some sort of a taping mud. So here in \n",
       "Canada we have what's called light taping mud. So this one says light<span style=\"color: #000000; text-decoration-color: #000000; background-color: #ffcccc\"> </span>weight taping.  And this box \n",
       "here is also <span style=\"color: #000000; text-decoration-color: #000000; background-color: #ffcccc\">a </span>taping mud. So in Canada, all of our mud is light. So what that means is in the \n",
       "<span style=\"color: #000000; text-decoration-color: #000000; background-color: #ffcccc\">s</span><span style=\"color: #000000; text-decoration-color: #000000; background-color: #ccffcc\">S</span>tates, there's actually heavyweight mud. And we'll get into that a little bit when I get into <span style=\"color: #000000; text-decoration-color: #000000; background-color: #ffcccc\">a</span><span style=\"color: #000000; text-decoration-color: #000000; background-color: #ccffcc\">A</span>ll\n",
       "<span style=\"color: #000000; text-decoration-color: #000000; background-color: #ffcccc\">p</span><span style=\"color: #000000; text-decoration-color: #000000; background-color: #ccffcc\">P</span>urpose. So this mud is specifically for laying paper tape. It doesn't coat nicely. It gets \n",
       "bubbles.  <span style=\"color: #000000; text-decoration-color: #000000; background-color: #ffcccc\">A</span><span style=\"color: #000000; text-decoration-color: #000000; background-color: #ccffcc\">a</span>nd it shrinks a lot and it's harder to sand<span style=\"color: #000000; text-decoration-color: #000000; background-color: #ffcccc\">. S</span><span style=\"color: #000000; text-decoration-color: #000000; background-color: #ccffcc\"> s</span>o it's specifically for laying tape<span style=\"color: #000000; text-decoration-color: #000000; background-color: #ffcccc\">. I</span><span style=\"color: #000000; text-decoration-color: #000000; background-color: #ccffcc\"> </span>\n",
       "<span style=\"color: #000000; text-decoration-color: #000000; background-color: #ccffcc\">i</span>t has tons of glue in it<span style=\"color: #000000; text-decoration-color: #000000; background-color: #ffcccc\">. A</span><span style=\"color: #000000; text-decoration-color: #000000; background-color: #ccffcc\"> a</span>nd because it's light<span style=\"color: #000000; text-decoration-color: #000000; background-color: #ffcccc\">,</span> it's not too heavy if you're using<span style=\"color: #000000; text-decoration-color: #000000; background-color: #ffcccc\">,</span> say<span style=\"color: #000000; text-decoration-color: #000000; background-color: #ffcccc\">,</span> \n",
       "automatic taping tools or just carrying around a pan of mud i<span style=\"color: #000000; text-decoration-color: #000000; background-color: #ccffcc\">t'</span>s not too heavy<span style=\"color: #000000; text-decoration-color: #000000; background-color: #ffcccc\">. S</span><span style=\"color: #000000; text-decoration-color: #000000; background-color: #ccffcc\"> s</span>o next we're \n",
       "going to get into all<span style=\"color: #000000; text-decoration-color: #000000; background-color: #ffcccc\"> </span><span style=\"color: #000000; text-decoration-color: #000000; background-color: #ccffcc\">-</span>purpose m<span style=\"color: #000000; text-decoration-color: #000000; background-color: #ffcccc\">onths. S</span><span style=\"color: #000000; text-decoration-color: #000000; background-color: #ccffcc\">ud s</span>o right here<span style=\"color: #000000; text-decoration-color: #000000; background-color: #ffcccc\">, I</span><span style=\"color: #000000; text-decoration-color: #000000; background-color: #ccffcc\"> i</span> have light all<span style=\"color: #000000; text-decoration-color: #000000; background-color: #ffcccc\"> </span><span style=\"color: #000000; text-decoration-color: #000000; background-color: #ccffcc\">-</span>purpose<span style=\"color: #000000; text-decoration-color: #000000; background-color: #ffcccc\">.</span>  So it's \n",
       "important to make a distinction. I've been saying light a lot and that's because pretty much all \n",
       "m<span style=\"color: #000000; text-decoration-color: #000000; background-color: #ffcccc\">o</span><span style=\"color: #000000; text-decoration-color: #000000; background-color: #ccffcc\">u</span>ds up here in Canada are light. And what that means is I'm not sure when they stopped using the \n",
       "regular heavyweight formula and switched over to light. It was maybe in the 80s or 90s.  <span style=\"color: #000000; text-decoration-color: #000000; background-color: #ffcccc\">B</span><span style=\"color: #000000; text-decoration-color: #000000; background-color: #ccffcc\">b</span>ut a \n",
       "heavyweight mud like your regular sheet<span style=\"color: #000000; text-decoration-color: #000000; background-color: #ffcccc\"> </span>rock green lid<span style=\"color: #000000; text-decoration-color: #000000; background-color: #ffcccc\">,</span> USG or your pro form black lid<span style=\"color: #000000; text-decoration-color: #000000; background-color: #ffcccc\">,</span> these mu<span style=\"color: #000000; text-decoration-color: #000000; background-color: #ffcccc\">g</span><span style=\"color: #000000; text-decoration-color: #000000; background-color: #ccffcc\">d</span>s \n",
       "that you guys have down in the <span style=\"color: #000000; text-decoration-color: #000000; background-color: #ffcccc\">S</span><span style=\"color: #000000; text-decoration-color: #000000; background-color: #ccffcc\">s</span>tates that is a regular heavyweight mud is literally twice the \n",
       "weight<span style=\"color: #000000; text-decoration-color: #000000; background-color: #ffcccc\">. Y</span><span style=\"color: #000000; text-decoration-color: #000000; background-color: #ccffcc\"> y</span>ou lift up a bucket of <span style=\"color: #000000; text-decoration-color: #000000; background-color: #ffcccc\"> that.</span> If you're a Canadian and you go to pick up a bucket of \n",
       "heavy<span style=\"color: #000000; text-decoration-color: #000000; background-color: #ccffcc\"> </span>weight and you've been lifting lightweight buckets your whole life<span style=\"color: #000000; text-decoration-color: #000000; background-color: #ccffcc\">,</span> you're go<span style=\"color: #000000; text-decoration-color: #000000; background-color: #ffcccc\">nna</span><span style=\"color: #000000; text-decoration-color: #000000; background-color: #ccffcc\">ing to,</span> oh my \n",
       "goodness<span style=\"color: #000000; text-decoration-color: #000000; background-color: #ccffcc\">,</span> because this stuff is just heavy<span style=\"color: #000000; text-decoration-color: #000000; background-color: #ffcccc\"> i</span><span style=\"color: #000000; text-decoration-color: #000000; background-color: #ccffcc\">. I</span>t's a totally different beast<span style=\"color: #000000; text-decoration-color: #000000; background-color: #ffcccc\"> a</span><span style=\"color: #000000; text-decoration-color: #000000; background-color: #ccffcc\">. A</span>nd a lot of the \n",
       "time I've been on drywall for<span style=\"color: #000000; text-decoration-color: #000000; background-color: #ccffcc\">u</span>ms where Canadian tapers are giving the Americans a really hard time. \n",
       "What are you taping with all purpose for?  <span style=\"color: #000000; text-decoration-color: #000000; background-color: #ffcccc\">T</span><span style=\"color: #000000; text-decoration-color: #000000; background-color: #ccffcc\">t</span>he thing is<span style=\"color: #000000; text-decoration-color: #000000; background-color: #ffcccc\">,</span> us Canadians don't know that in the states\n",
       "there's a lot of places that don't have taping mud and they don't have light mud<span style=\"color: #000000; text-decoration-color: #000000; background-color: #ffcccc\">. T</span><span style=\"color: #000000; text-decoration-color: #000000; background-color: #ccffcc\"> t</span>hey only have \n",
       "this all-purpose stuff<span style=\"color: #000000; text-decoration-color: #000000; background-color: #ffcccc\">. I</span><span style=\"color: #000000; text-decoration-color: #000000; background-color: #ccffcc\"> i</span>t's a real bear to work with<span style=\"color: #000000; text-decoration-color: #000000; background-color: #ffcccc\">. I</span><span style=\"color: #000000; text-decoration-color: #000000; background-color: #ccffcc\"> i</span>t s<span style=\"color: #000000; text-decoration-color: #000000; background-color: #ffcccc\">t</span>ands horribly<span style=\"color: #000000; text-decoration-color: #000000; background-color: #ffcccc\">,</span> so it's a totally \n",
       "different animal than the light muds we have up here in Canada<span style=\"color: #000000; text-decoration-color: #000000; background-color: #ffcccc\">. V</span><span style=\"color: #000000; text-decoration-color: #000000; background-color: #ccffcc\"> v</span>ery sticky and very strong<span style=\"color: #000000; text-decoration-color: #000000; background-color: #ffcccc\">.</span>  So \n",
       "let's get into the Canadian lightweight all<span style=\"color: #000000; text-decoration-color: #000000; background-color: #ffcccc\"> </span><span style=\"color: #000000; text-decoration-color: #000000; background-color: #ccffcc\">-</span>purpose. So you can tape with it, but it is not as good\n",
       "as a regular mud. So I'd say a light all<span style=\"color: #000000; text-decoration-color: #000000; background-color: #ffcccc\"> </span><span style=\"color: #000000; text-decoration-color: #000000; background-color: #ccffcc\">-</span>purpose mud for taping is good enough to give the customer\n",
       "a tailgate warranty. And what that means is when you can't see the tailgate of the contractor \n",
       "anymore, your warranty is expired.  So I carry this stuff around because it's al<span style=\"color: #000000; text-decoration-color: #000000; background-color: #ffcccc\">l </span>right for taping \n",
       "things like inside corners and it's good for taping things in a pinch and it also has better \n",
       "adhesion over say glossy paints and things like that than your classic finish. All purpose mud is \n",
       "also one of the only things you should be coating steel beads with.  <span style=\"color: #000000; text-decoration-color: #000000; background-color: #ffcccc\">The </span>real question is<span style=\"color: #000000; text-decoration-color: #000000; background-color: #ffcccc\">,</span> why are \n",
       "you still installing steel beads? So next let's get into finish<span style=\"color: #000000; text-decoration-color: #000000; background-color: #ffcccc\">ed</span> muds. So right here we've got a \n",
       "classic finish<span style=\"color: #000000; text-decoration-color: #000000; background-color: #ffcccc\">,</span> which just means it's a topping mud. So this mud is not suitable for taping<span style=\"color: #000000; text-decoration-color: #000000; background-color: #ffcccc\">. I</span><span style=\"color: #000000; text-decoration-color: #000000; background-color: #ccffcc\">, i</span>t \n",
       "is not suitable for coating steel or vinyl beads<span style=\"color: #000000; text-decoration-color: #000000; background-color: #ffcccc\">. B</span><span style=\"color: #000000; text-decoration-color: #000000; background-color: #ccffcc\">, b</span>ut what it is suitable for is getting nice \n",
       "smooth coats with relatively few bubbles on your first coat<span style=\"color: #000000; text-decoration-color: #000000; background-color: #ffcccc\">. A</span><span style=\"color: #000000; text-decoration-color: #000000; background-color: #ccffcc\"> a</span>nd it polishes out really nicely on \n",
       "your final coat. It's also easier to sand.  So in terms of hardness of sanding, taping and the \n",
       "heavyweight all<span style=\"color: #000000; text-decoration-color: #000000; background-color: #ffcccc\"> </span><span style=\"color: #000000; text-decoration-color: #000000; background-color: #ccffcc\">-</span>purpose, you don't want to sand that stuff. Light all<span style=\"color: #000000; text-decoration-color: #000000; background-color: #ffcccc\"> </span><span style=\"color: #000000; text-decoration-color: #000000; background-color: #ccffcc\">-</span>purpose is pretty darn easy \n",
       "to sand. A comparable product in the States would be USG plus <span style=\"color: #008080; text-decoration-color: #008080; font-weight: bold\">3</span>. That's a light all<span style=\"color: #000000; text-decoration-color: #000000; background-color: #ffcccc\"> </span><span style=\"color: #000000; text-decoration-color: #000000; background-color: #ccffcc\">-</span>purpose. But \n",
       "this stuff is very easy to sand.  If you use a coarse grit of sandpaper like a <span style=\"color: #008080; text-decoration-color: #008080; font-weight: bold\">120</span> or sometimes even\n",
       "a <span style=\"color: #008080; text-decoration-color: #008080; font-weight: bold\">150</span> on a finish<span style=\"color: #000000; text-decoration-color: #000000; background-color: #ccffcc\">ed</span> mud, you're going to scratch the crap out of it. So it's very easy to sand, but \n",
       "that also means that you need to be more careful with it when sanding and that it's not going to \n",
       "leave as durable a finish on the customer's wall.  Although in all honesty, we're talking about \n",
       "drywall, not plaster <span style=\"color: #000000; text-decoration-color: #000000; background-color: #ccffcc\">or </span>concrete. No matter what drywall you're using, it's going to leave a cheap \n",
       "finish on the wall because drywall<span style=\"color: #000000; text-decoration-color: #000000; background-color: #ffcccc\">'</span><span style=\"color: #000000; text-decoration-color: #000000; background-color: #ccffcc\"> i</span>s a cheap product, but that's a whole other debate. So the \n",
       "ideal scenario for using something like an all-purpose is when you're doing a really small job like \n",
       "a bunch of patches or a small bathroom.  So you're going to use mesh tape and quick set on your \n",
       "flats and your butt joints and you're going to use paper tape and all purpose for your inside \n",
       "corners. I would probably also install my corner beads with quick set and you're going to get a \n",
       "first coat on everything and a coat on your inside corners with the all purpose and then you're \n",
       "going to do a finished coat with the all purpose.  So it's handy to have if you don't want to carry \n",
       "two different buckets around. You just want one bucket for one job. So for large jobs<span style=\"color: #000000; text-decoration-color: #000000; background-color: #ffcccc\">,</span> what I like \n",
       "to have is I like to have a bag <span style=\"color: #000000; text-decoration-color: #000000; background-color: #ffcccc\">called</span><span style=\"color: #000000; text-decoration-color: #000000; background-color: #ccffcc\">of con</span> fill for the deep fills and for pre-filling everything.\n",
       "I like to have taping mud and paper tape because it's the strongest and longest lasting. And then I \n",
       "like to have finished mud because it spreads the nicest and because I get the least pinholes and it \n",
       "sands easily.  <span style=\"color: #000000; text-decoration-color: #000000; background-color: #ffcccc\">S</span><span style=\"color: #000000; text-decoration-color: #000000; background-color: #ccffcc\">s</span>o this is for big jobs and then the quick set and then all<span style=\"color: #000000; text-decoration-color: #000000; background-color: #ffcccc\"> </span><span style=\"color: #000000; text-decoration-color: #000000; background-color: #ccffcc\">-</span>purpose for the little \n",
       "jobs<span style=\"color: #000000; text-decoration-color: #000000; background-color: #ffcccc\">. S</span><span style=\"color: #000000; text-decoration-color: #000000; background-color: #ccffcc\"> s</span>o <span style=\"color: #000000; text-decoration-color: #000000; background-color: #ffcccc\">I</span><span style=\"color: #000000; text-decoration-color: #000000; background-color: #ccffcc\">i</span> hope that helps answer some of your questions if you've been wondering about what are \n",
       "all these different types of drywall m<span style=\"color: #000000; text-decoration-color: #000000; background-color: #ffcccc\">o</span><span style=\"color: #000000; text-decoration-color: #000000; background-color: #ccffcc\">u</span>ds and maybe <span style=\"color: #000000; text-decoration-color: #000000; background-color: #ccffcc\">you </span>get a little overwhelmed when you're at the\n",
       "<span style=\"color: #000000; text-decoration-color: #000000; background-color: #ffcccc\">H</span><span style=\"color: #000000; text-decoration-color: #000000; background-color: #ccffcc\">h</span>ome <span style=\"color: #000000; text-decoration-color: #000000; background-color: #ffcccc\">D</span><span style=\"color: #000000; text-decoration-color: #000000; background-color: #ccffcc\">d</span>epot<span style=\"color: #000000; text-decoration-color: #000000; background-color: #ffcccc\">. S</span><span style=\"color: #000000; text-decoration-color: #000000; background-color: #ccffcc\"> s</span>o thanks for watching<span style=\"color: #000000; text-decoration-color: #000000; background-color: #ffcccc\">. S</span><span style=\"color: #000000; text-decoration-color: #000000; background-color: #ccffcc\"> s</span>ee you in the next video<span style=\"color: #000000; text-decoration-color: #000000; background-color: #ffcccc\">.</span>\n",
       "</pre>\n"
      ],
      "text/plain": [
       " Hello and welcome to Vancouver Carpenter. If you're new to drywall, picking the right mud can be \n",
       "kind of a daunting task with so many different types. We've got light mud, we've got all purpose, \n",
       "we've got heavy\u001b[30;48;2;204;255;204m \u001b[0mweight, we've got topping, we've got joint. So it's hard to know exactly which mud \n",
       "to choose.  So\u001b[30;48;2;204;255;204m,\u001b[0m I'm going to help break that down for you so you can know which one to pick. We're \n",
       "also going to do this in the order that we tape with. So\u001b[30;48;2;204;255;204m,\u001b[0m first we're going to start with quick set \n",
       "mu\u001b[30;48;2;255;204;204mg\u001b[0m\u001b[30;48;2;204;255;204md\u001b[0ms. So\u001b[30;48;2;204;255;204m,\u001b[0m these are the powdered mugs that are bought in bag form. So\u001b[30;48;2;204;255;204m,\u001b[0m one of the ones we use a lot\n",
       "here in Western Canada\u001b[30;48;2;204;255;204m,\u001b[0m and this isn't available everywhere\u001b[30;48;2;204;255;204m,\u001b[0m but it's called concrete fill. So\u001b[30;48;2;204;255;204m,\u001b[0m the \n",
       "specific purpose of this mud\u001b[30;48;2;204;255;204m,\u001b[0m right here\u001b[30;48;2;204;255;204m,\u001b[0m  is actually for skimming out concrete ceilings. So it's \n",
       "got really good adhesion and it's got some light aggregate in it, which I believe is something like \n",
       "pe\u001b[30;48;2;255;204;204mar light\u001b[0m\u001b[30;48;2;204;255;204mrlite\u001b[0m. So it's squishy, not like sand.  So that's for skimming out ceilings. It has \u001b[30;48;2;255;204;204ma \u001b[0m\n",
       "really great floatability, but you're not go\u001b[30;48;2;255;204;204mnna\u001b[0m\u001b[30;48;2;204;255;204ming to\u001b[0m find it everywhere. Hamilton Ultra Fill is \n",
       "another product. It's the same product, basically, just in a different bag from a different company.\n",
       "So we use this for floating big areas, filling large voids. I also use it for jobs where I'm taping \n",
       "with mesh tape. It's a quick setting compound that has about an hour to set. So next, let's get into\n",
       "another quick set. So this one is just your standard \u001b[1;36m20\u001b[0m\u001b[30;48;2;255;204;204m-\u001b[0m\u001b[30;48;2;204;255;204m \u001b[0mminute \u001b[30;48;2;255;204;204mlea\u001b[0m\u001b[30;48;2;204;255;204mmu\u001b[0md. This is a \u001b[30;48;2;255;204;204mc\u001b[0m\u001b[30;48;2;204;255;204mC\u001b[0mertain\u001b[30;48;2;255;204;204m teeth\u001b[0m\u001b[30;48;2;204;255;204mTeed\u001b[0m\n",
       "product.  \u001b[30;48;2;255;204;204mL\u001b[0m\u001b[30;48;2;204;255;204ml\u001b[0might sand plus it says light sand because it's supposed to be sandable\u001b[30;48;2;255;204;204m,\u001b[0m but it's not \n",
       "very sandable \u001b[30;48;2;255;204;204mS\u001b[0m\u001b[30;48;2;204;255;204ms\u001b[0mo this is another product that is suitable for taping with  mesh tape on patches and\n",
       "jobs that you're just not worried about cracking. So this stuff is very hard\u001b[30;48;2;255;204;204m. I\u001b[0m\u001b[30;48;2;204;255;204m, i\u001b[0mt doesn't shrink\u001b[30;48;2;204;255;204m,\u001b[0m \n",
       "and I mostly just use it for pre-fill or jobs where I'm trying to get in and out in a day. It sets \n",
       "in about \u001b[1;36m20\u001b[0m to \u001b[1;36m30\u001b[0m minutes so you can apply subsequent coats. Now\u001b[30;48;2;204;255;204m,\u001b[0m something that most people don't \n",
       "understand about setting muds  They are quick set, not quick dr\u001b[30;48;2;255;204;204mive\u001b[0m\u001b[30;48;2;204;255;204my\u001b[0m. If you apply three coats in one\n",
       "day, you still need to wait three or four days for that to dr\u001b[30;48;2;255;204;204mive\u001b[0m\u001b[30;48;2;204;255;204my\u001b[0m properly. All it does is allow you\n",
       "to apply a bunch of coats in one day so you don't have to do multiple trips. And it also allows you \n",
       "to do deep fills, like you can fill things up to easily half inch deep, if not deeper, without it \n",
       "shrinking and cracking. So it doesn't do all the weird things that regular mud will do.  So once \n",
       "you've done your pre-filling, the next thing to go on to is some sort of a taping mud. So here in \n",
       "Canada we have what's called light taping mud. So this one says light\u001b[30;48;2;255;204;204m \u001b[0mweight taping.  And this box \n",
       "here is also \u001b[30;48;2;255;204;204ma \u001b[0mtaping mud. So in Canada, all of our mud is light. So what that means is in the \n",
       "\u001b[30;48;2;255;204;204ms\u001b[0m\u001b[30;48;2;204;255;204mS\u001b[0mtates, there's actually heavyweight mud. And we'll get into that a little bit when I get into \u001b[30;48;2;255;204;204ma\u001b[0m\u001b[30;48;2;204;255;204mA\u001b[0mll\n",
       "\u001b[30;48;2;255;204;204mp\u001b[0m\u001b[30;48;2;204;255;204mP\u001b[0murpose. So this mud is specifically for laying paper tape. It doesn't coat nicely. It gets \n",
       "bubbles.  \u001b[30;48;2;255;204;204mA\u001b[0m\u001b[30;48;2;204;255;204ma\u001b[0mnd it shrinks a lot and it's harder to sand\u001b[30;48;2;255;204;204m. S\u001b[0m\u001b[30;48;2;204;255;204m s\u001b[0mo it's specifically for laying tape\u001b[30;48;2;255;204;204m. I\u001b[0m\u001b[30;48;2;204;255;204m \u001b[0m\n",
       "\u001b[30;48;2;204;255;204mi\u001b[0mt has tons of glue in it\u001b[30;48;2;255;204;204m. A\u001b[0m\u001b[30;48;2;204;255;204m a\u001b[0mnd because it's light\u001b[30;48;2;255;204;204m,\u001b[0m it's not too heavy if you're using\u001b[30;48;2;255;204;204m,\u001b[0m say\u001b[30;48;2;255;204;204m,\u001b[0m \n",
       "automatic taping tools or just carrying around a pan of mud i\u001b[30;48;2;204;255;204mt'\u001b[0ms not too heavy\u001b[30;48;2;255;204;204m. S\u001b[0m\u001b[30;48;2;204;255;204m s\u001b[0mo next we're \n",
       "going to get into all\u001b[30;48;2;255;204;204m \u001b[0m\u001b[30;48;2;204;255;204m-\u001b[0mpurpose m\u001b[30;48;2;255;204;204months. S\u001b[0m\u001b[30;48;2;204;255;204mud s\u001b[0mo right here\u001b[30;48;2;255;204;204m, I\u001b[0m\u001b[30;48;2;204;255;204m i\u001b[0m have light all\u001b[30;48;2;255;204;204m \u001b[0m\u001b[30;48;2;204;255;204m-\u001b[0mpurpose\u001b[30;48;2;255;204;204m.\u001b[0m  So it's \n",
       "important to make a distinction. I've been saying light a lot and that's because pretty much all \n",
       "m\u001b[30;48;2;255;204;204mo\u001b[0m\u001b[30;48;2;204;255;204mu\u001b[0mds up here in Canada are light. And what that means is I'm not sure when they stopped using the \n",
       "regular heavyweight formula and switched over to light. It was maybe in the 80s or 90s.  \u001b[30;48;2;255;204;204mB\u001b[0m\u001b[30;48;2;204;255;204mb\u001b[0mut a \n",
       "heavyweight mud like your regular sheet\u001b[30;48;2;255;204;204m \u001b[0mrock green lid\u001b[30;48;2;255;204;204m,\u001b[0m USG or your pro form black lid\u001b[30;48;2;255;204;204m,\u001b[0m these mu\u001b[30;48;2;255;204;204mg\u001b[0m\u001b[30;48;2;204;255;204md\u001b[0ms \n",
       "that you guys have down in the \u001b[30;48;2;255;204;204mS\u001b[0m\u001b[30;48;2;204;255;204ms\u001b[0mtates that is a regular heavyweight mud is literally twice the \n",
       "weight\u001b[30;48;2;255;204;204m. Y\u001b[0m\u001b[30;48;2;204;255;204m y\u001b[0mou lift up a bucket of \u001b[30;48;2;255;204;204m that.\u001b[0m If you're a Canadian and you go to pick up a bucket of \n",
       "heavy\u001b[30;48;2;204;255;204m \u001b[0mweight and you've been lifting lightweight buckets your whole life\u001b[30;48;2;204;255;204m,\u001b[0m you're go\u001b[30;48;2;255;204;204mnna\u001b[0m\u001b[30;48;2;204;255;204ming to,\u001b[0m oh my \n",
       "goodness\u001b[30;48;2;204;255;204m,\u001b[0m because this stuff is just heavy\u001b[30;48;2;255;204;204m i\u001b[0m\u001b[30;48;2;204;255;204m. I\u001b[0mt's a totally different beast\u001b[30;48;2;255;204;204m a\u001b[0m\u001b[30;48;2;204;255;204m. A\u001b[0mnd a lot of the \n",
       "time I've been on drywall for\u001b[30;48;2;204;255;204mu\u001b[0mms where Canadian tapers are giving the Americans a really hard time. \n",
       "What are you taping with all purpose for?  \u001b[30;48;2;255;204;204mT\u001b[0m\u001b[30;48;2;204;255;204mt\u001b[0mhe thing is\u001b[30;48;2;255;204;204m,\u001b[0m us Canadians don't know that in the states\n",
       "there's a lot of places that don't have taping mud and they don't have light mud\u001b[30;48;2;255;204;204m. T\u001b[0m\u001b[30;48;2;204;255;204m t\u001b[0mhey only have \n",
       "this all-purpose stuff\u001b[30;48;2;255;204;204m. I\u001b[0m\u001b[30;48;2;204;255;204m i\u001b[0mt's a real bear to work with\u001b[30;48;2;255;204;204m. I\u001b[0m\u001b[30;48;2;204;255;204m i\u001b[0mt s\u001b[30;48;2;255;204;204mt\u001b[0mands horribly\u001b[30;48;2;255;204;204m,\u001b[0m so it's a totally \n",
       "different animal than the light muds we have up here in Canada\u001b[30;48;2;255;204;204m. V\u001b[0m\u001b[30;48;2;204;255;204m v\u001b[0mery sticky and very strong\u001b[30;48;2;255;204;204m.\u001b[0m  So \n",
       "let's get into the Canadian lightweight all\u001b[30;48;2;255;204;204m \u001b[0m\u001b[30;48;2;204;255;204m-\u001b[0mpurpose. So you can tape with it, but it is not as good\n",
       "as a regular mud. So I'd say a light all\u001b[30;48;2;255;204;204m \u001b[0m\u001b[30;48;2;204;255;204m-\u001b[0mpurpose mud for taping is good enough to give the customer\n",
       "a tailgate warranty. And what that means is when you can't see the tailgate of the contractor \n",
       "anymore, your warranty is expired.  So I carry this stuff around because it's al\u001b[30;48;2;255;204;204ml \u001b[0mright for taping \n",
       "things like inside corners and it's good for taping things in a pinch and it also has better \n",
       "adhesion over say glossy paints and things like that than your classic finish. All purpose mud is \n",
       "also one of the only things you should be coating steel beads with.  \u001b[30;48;2;255;204;204mThe \u001b[0mreal question is\u001b[30;48;2;255;204;204m,\u001b[0m why are \n",
       "you still installing steel beads? So next let's get into finish\u001b[30;48;2;255;204;204med\u001b[0m muds. So right here we've got a \n",
       "classic finish\u001b[30;48;2;255;204;204m,\u001b[0m which just means it's a topping mud. So this mud is not suitable for taping\u001b[30;48;2;255;204;204m. I\u001b[0m\u001b[30;48;2;204;255;204m, i\u001b[0mt \n",
       "is not suitable for coating steel or vinyl beads\u001b[30;48;2;255;204;204m. B\u001b[0m\u001b[30;48;2;204;255;204m, b\u001b[0mut what it is suitable for is getting nice \n",
       "smooth coats with relatively few bubbles on your first coat\u001b[30;48;2;255;204;204m. A\u001b[0m\u001b[30;48;2;204;255;204m a\u001b[0mnd it polishes out really nicely on \n",
       "your final coat. It's also easier to sand.  So in terms of hardness of sanding, taping and the \n",
       "heavyweight all\u001b[30;48;2;255;204;204m \u001b[0m\u001b[30;48;2;204;255;204m-\u001b[0mpurpose, you don't want to sand that stuff. Light all\u001b[30;48;2;255;204;204m \u001b[0m\u001b[30;48;2;204;255;204m-\u001b[0mpurpose is pretty darn easy \n",
       "to sand. A comparable product in the States would be USG plus \u001b[1;36m3\u001b[0m. That's a light all\u001b[30;48;2;255;204;204m \u001b[0m\u001b[30;48;2;204;255;204m-\u001b[0mpurpose. But \n",
       "this stuff is very easy to sand.  If you use a coarse grit of sandpaper like a \u001b[1;36m120\u001b[0m or sometimes even\n",
       "a \u001b[1;36m150\u001b[0m on a finish\u001b[30;48;2;204;255;204med\u001b[0m mud, you're going to scratch the crap out of it. So it's very easy to sand, but \n",
       "that also means that you need to be more careful with it when sanding and that it's not going to \n",
       "leave as durable a finish on the customer's wall.  Although in all honesty, we're talking about \n",
       "drywall, not plaster \u001b[30;48;2;204;255;204mor \u001b[0mconcrete. No matter what drywall you're using, it's going to leave a cheap \n",
       "finish on the wall because drywall\u001b[30;48;2;255;204;204m'\u001b[0m\u001b[30;48;2;204;255;204m i\u001b[0ms a cheap product, but that's a whole other debate. So the \n",
       "ideal scenario for using something like an all-purpose is when you're doing a really small job like \n",
       "a bunch of patches or a small bathroom.  So you're going to use mesh tape and quick set on your \n",
       "flats and your butt joints and you're going to use paper tape and all purpose for your inside \n",
       "corners. I would probably also install my corner beads with quick set and you're going to get a \n",
       "first coat on everything and a coat on your inside corners with the all purpose and then you're \n",
       "going to do a finished coat with the all purpose.  So it's handy to have if you don't want to carry \n",
       "two different buckets around. You just want one bucket for one job. So for large jobs\u001b[30;48;2;255;204;204m,\u001b[0m what I like \n",
       "to have is I like to have a bag \u001b[30;48;2;255;204;204mcalled\u001b[0m\u001b[30;48;2;204;255;204mof con\u001b[0m fill for the deep fills and for pre-filling everything.\n",
       "I like to have taping mud and paper tape because it's the strongest and longest lasting. And then I \n",
       "like to have finished mud because it spreads the nicest and because I get the least pinholes and it \n",
       "sands easily.  \u001b[30;48;2;255;204;204mS\u001b[0m\u001b[30;48;2;204;255;204ms\u001b[0mo this is for big jobs and then the quick set and then all\u001b[30;48;2;255;204;204m \u001b[0m\u001b[30;48;2;204;255;204m-\u001b[0mpurpose for the little \n",
       "jobs\u001b[30;48;2;255;204;204m. S\u001b[0m\u001b[30;48;2;204;255;204m s\u001b[0mo \u001b[30;48;2;255;204;204mI\u001b[0m\u001b[30;48;2;204;255;204mi\u001b[0m hope that helps answer some of your questions if you've been wondering about what are \n",
       "all these different types of drywall m\u001b[30;48;2;255;204;204mo\u001b[0m\u001b[30;48;2;204;255;204mu\u001b[0mds and maybe \u001b[30;48;2;204;255;204myou \u001b[0mget a little overwhelmed when you're at the\n",
       "\u001b[30;48;2;255;204;204mH\u001b[0m\u001b[30;48;2;204;255;204mh\u001b[0mome \u001b[30;48;2;255;204;204mD\u001b[0m\u001b[30;48;2;204;255;204md\u001b[0mepot\u001b[30;48;2;255;204;204m. S\u001b[0m\u001b[30;48;2;204;255;204m s\u001b[0mo thanks for watching\u001b[30;48;2;255;204;204m. S\u001b[0m\u001b[30;48;2;204;255;204m s\u001b[0mee you in the next video\u001b[30;48;2;255;204;204m.\u001b[0m\n"
      ]
     },
     "metadata": {},
     "output_type": "display_data"
    }
   ],
   "source": [
    "from rich.console import Console\n",
    "from rich.markup import escape\n",
    "from diff_match_patch import diff_match_patch\n",
    "\n",
    "console = Console(record=True, width=100)\n",
    "\n",
    "def pretty_diff_rich(text1, text2):\n",
    "    dmp = diff_match_patch()\n",
    "    diffs = dmp.diff_main(text1, text2)\n",
    "    dmp.diff_cleanupSemantic(diffs)  # Clean up to make the diff more readable\n",
    "\n",
    "    formatted_output = []\n",
    "    for op, text in diffs:\n",
    "        safe_text = escape(text)  # Prevent issues with brackets in Rich\n",
    "\n",
    "        if op == -1:\n",
    "            formatted_output.append(f\"[black on #ffcccc]{safe_text}[/black on #ffcccc]\")  # Light red background for deletions\n",
    "        elif op == 1:\n",
    "            formatted_output.append(f\"[black on #ccffcc]{safe_text}[/black on #ccffcc]\")  # Light green background for additions\n",
    "        else:\n",
    "            formatted_output.append(safe_text)  # Normal text\n",
    "\n",
    "    console.print(\"\".join(formatted_output))\n",
    "\n",
    "\n",
    "pretty_diff_rich(tiny_en_text, turbo_text)\n"
   ]
  },
  {
   "cell_type": "markdown",
   "metadata": {},
   "source": [
    "# Download and transcribe many videos"
   ]
  },
  {
   "cell_type": "code",
   "execution_count": 8,
   "metadata": {},
   "outputs": [
    {
     "data": {
      "text/html": [
       "<div>\n",
       "<style scoped>\n",
       "    .dataframe tbody tr th:only-of-type {\n",
       "        vertical-align: middle;\n",
       "    }\n",
       "\n",
       "    .dataframe tbody tr th {\n",
       "        vertical-align: top;\n",
       "    }\n",
       "\n",
       "    .dataframe thead th {\n",
       "        text-align: right;\n",
       "    }\n",
       "</style>\n",
       "<table border=\"1\" class=\"dataframe\">\n",
       "  <thead>\n",
       "    <tr style=\"text-align: right;\">\n",
       "      <th></th>\n",
       "      <th>video_id</th>\n",
       "      <th>url</th>\n",
       "    </tr>\n",
       "  </thead>\n",
       "  <tbody>\n",
       "    <tr>\n",
       "      <th>0</th>\n",
       "      <td>eIK50QLHpOc</td>\n",
       "      <td>https://www.youtube.com/watch?v=eIK50QLHpOc</td>\n",
       "    </tr>\n",
       "    <tr>\n",
       "      <th>1</th>\n",
       "      <td>s-4yh3XY5wU</td>\n",
       "      <td>https://www.youtube.com/watch?v=s-4yh3XY5wU</td>\n",
       "    </tr>\n",
       "    <tr>\n",
       "      <th>2</th>\n",
       "      <td>T4g-OBXCy1k</td>\n",
       "      <td>https://www.youtube.com/watch?v=T4g-OBXCy1k</td>\n",
       "    </tr>\n",
       "    <tr>\n",
       "      <th>3</th>\n",
       "      <td>GIvmfBuAQIw</td>\n",
       "      <td>https://www.youtube.com/watch?v=GIvmfBuAQIw</td>\n",
       "    </tr>\n",
       "    <tr>\n",
       "      <th>4</th>\n",
       "      <td>CzrnOujf8YA</td>\n",
       "      <td>https://www.youtube.com/watch?v=CzrnOujf8YA</td>\n",
       "    </tr>\n",
       "  </tbody>\n",
       "</table>\n",
       "</div>"
      ],
      "text/plain": [
       "      video_id                                          url\n",
       "0  eIK50QLHpOc  https://www.youtube.com/watch?v=eIK50QLHpOc\n",
       "1  s-4yh3XY5wU  https://www.youtube.com/watch?v=s-4yh3XY5wU\n",
       "2  T4g-OBXCy1k  https://www.youtube.com/watch?v=T4g-OBXCy1k\n",
       "3  GIvmfBuAQIw  https://www.youtube.com/watch?v=GIvmfBuAQIw\n",
       "4  CzrnOujf8YA  https://www.youtube.com/watch?v=CzrnOujf8YA"
      ]
     },
     "execution_count": 8,
     "metadata": {},
     "output_type": "execute_result"
    }
   ],
   "source": [
    "import pandas as pd\n",
    "\n",
    "urls = [\n",
    "    'eIK50QLHpOc',\n",
    "    's-4yh3XY5wU',\n",
    "    'T4g-OBXCy1k',\n",
    "    'GIvmfBuAQIw',\n",
    "    'CzrnOujf8YA'\n",
    "]\n",
    "df = pd.DataFrame({'video_id': urls})\n",
    "df['url'] = 'https://www.youtube.com/watch?v=' + df['video_id']\n",
    "df"
   ]
  },
  {
   "cell_type": "code",
   "execution_count": 13,
   "metadata": {},
   "outputs": [
    {
     "name": "stdout",
     "output_type": "stream",
     "text": [
      "[youtube] Extracting URL: https://www.youtube.com/watch?v=eIK50QLHpOc\n",
      "[youtube] eIK50QLHpOc: Downloading webpage\n",
      "[youtube] eIK50QLHpOc: Downloading tv client config\n",
      "[youtube] eIK50QLHpOc: Downloading player 9c6dfc4a\n",
      "[youtube] eIK50QLHpOc: Downloading tv player API JSON\n",
      "[youtube] eIK50QLHpOc: Downloading ios player API JSON\n",
      "[youtube] eIK50QLHpOc: Downloading m3u8 information\n",
      "[info] eIK50QLHpOc: Downloading 1 format(s): 251\n",
      "[download] Destination: downloads/downloads/audio/eIK50QLHpOc.webm\n",
      "[download] 100% of    2.16MiB in 00:00:00 at 7.05MiB/s   \n",
      "[ExtractAudio] Destination: downloads/downloads/audio/eIK50QLHpOc.mp3\n",
      "Deleting original file downloads/downloads/audio/eIK50QLHpOc.webm (pass -k to keep)\n",
      "[youtube] Extracting URL: https://www.youtube.com/watch?v=s-4yh3XY5wU\n",
      "[youtube] s-4yh3XY5wU: Downloading webpage\n",
      "[youtube] s-4yh3XY5wU: Downloading tv client config\n",
      "[youtube] s-4yh3XY5wU: Downloading tv player API JSON\n",
      "[youtube] s-4yh3XY5wU: Downloading ios player API JSON\n",
      "[youtube] s-4yh3XY5wU: Downloading m3u8 information\n",
      "[info] s-4yh3XY5wU: Downloading 1 format(s): 251\n",
      "[download] Destination: downloads/downloads/audio/s-4yh3XY5wU.webm\n",
      "[download] 100% of    5.21MiB in 00:00:00 at 8.29MiB/s   \n",
      "[ExtractAudio] Destination: downloads/downloads/audio/s-4yh3XY5wU.mp3\n",
      "Deleting original file downloads/downloads/audio/s-4yh3XY5wU.webm (pass -k to keep)\n",
      "[youtube] Extracting URL: https://www.youtube.com/watch?v=T4g-OBXCy1k\n",
      "[youtube] T4g-OBXCy1k: Downloading webpage\n",
      "[youtube] T4g-OBXCy1k: Downloading tv client config\n",
      "[youtube] T4g-OBXCy1k: Downloading tv player API JSON\n",
      "[youtube] T4g-OBXCy1k: Downloading ios player API JSON\n",
      "[youtube] T4g-OBXCy1k: Downloading m3u8 information\n",
      "[info] T4g-OBXCy1k: Downloading 1 format(s): 251\n",
      "[download] Destination: downloads/downloads/audio/T4g-OBXCy1k.webm\n",
      "[download] 100% of    1.25MiB in 00:00:00 at 4.67MiB/s   \n",
      "[ExtractAudio] Destination: downloads/downloads/audio/T4g-OBXCy1k.mp3\n",
      "Deleting original file downloads/downloads/audio/T4g-OBXCy1k.webm (pass -k to keep)\n",
      "[youtube] Extracting URL: https://www.youtube.com/watch?v=GIvmfBuAQIw\n",
      "[youtube] GIvmfBuAQIw: Downloading webpage\n",
      "[youtube] GIvmfBuAQIw: Downloading tv client config\n",
      "[youtube] GIvmfBuAQIw: Downloading tv player API JSON\n",
      "[youtube] GIvmfBuAQIw: Downloading ios player API JSON\n",
      "[youtube] GIvmfBuAQIw: Downloading m3u8 information\n",
      "[info] GIvmfBuAQIw: Downloading 1 format(s): 251\n",
      "[download] Destination: downloads/downloads/audio/GIvmfBuAQIw.webm\n",
      "[download] 100% of    4.54MiB in 00:00:00 at 8.67MiB/s   \n",
      "[ExtractAudio] Destination: downloads/downloads/audio/GIvmfBuAQIw.mp3\n",
      "Deleting original file downloads/downloads/audio/GIvmfBuAQIw.webm (pass -k to keep)\n",
      "[youtube] Extracting URL: https://www.youtube.com/watch?v=CzrnOujf8YA\n",
      "[youtube] CzrnOujf8YA: Downloading webpage\n",
      "[youtube] CzrnOujf8YA: Downloading tv client config\n",
      "[youtube] CzrnOujf8YA: Downloading tv player API JSON\n",
      "[youtube] CzrnOujf8YA: Downloading ios player API JSON\n",
      "[youtube] CzrnOujf8YA: Downloading m3u8 information\n",
      "[info] CzrnOujf8YA: Downloading 1 format(s): 251\n",
      "[download] Destination: downloads/downloads/audio/CzrnOujf8YA.webm\n",
      "[download] 100% of    3.26MiB in 00:00:00 at 9.58MiB/s   \n",
      "[ExtractAudio] Destination: downloads/downloads/audio/CzrnOujf8YA.mp3\n",
      "Deleting original file downloads/downloads/audio/CzrnOujf8YA.webm (pass -k to keep)\n"
     ]
    }
   ],
   "source": [
    "from yt_dlp import YoutubeDL\n",
    "from pathlib import Path\n",
    "\n",
    "download_dir = Path(\"downloads\")\n",
    "\n",
    "video_dir = download_dir / video_dir\n",
    "audio_dir = download_dir / audio_dir\n",
    "\n",
    "video_dir.mkdir(exist_ok=True, parents=True)\n",
    "audio_dir.mkdir(exist_ok=True, parents=True)\n",
    "\n",
    "video_opts = {\n",
    "    'format': 'bestvideo[height<=720]+bestaudio',\n",
    "    'outtmpl': str(video_dir / '%(id)s.%(ext)s'),  # Using / operator for paths\n",
    "    'quiet': True,\n",
    "    'ignoreerrors': True,\n",
    "    'no_warnings': False\n",
    "}\n",
    "\n",
    "audio_opts = {\n",
    "    'format': 'bestaudio',\n",
    "    'outtmpl': str(audio_dir / '%(id)s.%(ext)s'),\n",
    "    'postprocessors': [{\n",
    "        'key': 'FFmpegExtractAudio',\n",
    "        'preferredcodec': 'mp3',\n",
    "        'preferredquality': '192',\n",
    "    }],\n",
    "    'quiet': False,\n",
    "    'ignoreerrors': True\n",
    "}\n",
    "\n",
    "try:\n",
    "    with YoutubeDL(audio_opts) as ydl:\n",
    "        ydl.download(df.url)\n",
    "except Exception as e:\n",
    "    print(f\"Error during download: {e}\")"
   ]
  },
  {
   "cell_type": "code",
   "execution_count": 15,
   "metadata": {},
   "outputs": [
    {
     "data": {
      "text/html": [
       "<div>\n",
       "<style scoped>\n",
       "    .dataframe tbody tr th:only-of-type {\n",
       "        vertical-align: middle;\n",
       "    }\n",
       "\n",
       "    .dataframe tbody tr th {\n",
       "        vertical-align: top;\n",
       "    }\n",
       "\n",
       "    .dataframe thead th {\n",
       "        text-align: right;\n",
       "    }\n",
       "</style>\n",
       "<table border=\"1\" class=\"dataframe\">\n",
       "  <thead>\n",
       "    <tr style=\"text-align: right;\">\n",
       "      <th></th>\n",
       "      <th>video_id</th>\n",
       "      <th>url</th>\n",
       "      <th>audio_path</th>\n",
       "    </tr>\n",
       "  </thead>\n",
       "  <tbody>\n",
       "    <tr>\n",
       "      <th>0</th>\n",
       "      <td>eIK50QLHpOc</td>\n",
       "      <td>https://www.youtube.com/watch?v=eIK50QLHpOc</td>\n",
       "      <td>downloads/audio/eIK50QLHpOc.mp3</td>\n",
       "    </tr>\n",
       "    <tr>\n",
       "      <th>1</th>\n",
       "      <td>s-4yh3XY5wU</td>\n",
       "      <td>https://www.youtube.com/watch?v=s-4yh3XY5wU</td>\n",
       "      <td>downloads/audio/s-4yh3XY5wU.mp3</td>\n",
       "    </tr>\n",
       "    <tr>\n",
       "      <th>2</th>\n",
       "      <td>T4g-OBXCy1k</td>\n",
       "      <td>https://www.youtube.com/watch?v=T4g-OBXCy1k</td>\n",
       "      <td>downloads/audio/T4g-OBXCy1k.mp3</td>\n",
       "    </tr>\n",
       "    <tr>\n",
       "      <th>3</th>\n",
       "      <td>GIvmfBuAQIw</td>\n",
       "      <td>https://www.youtube.com/watch?v=GIvmfBuAQIw</td>\n",
       "      <td>downloads/audio/GIvmfBuAQIw.mp3</td>\n",
       "    </tr>\n",
       "    <tr>\n",
       "      <th>4</th>\n",
       "      <td>CzrnOujf8YA</td>\n",
       "      <td>https://www.youtube.com/watch?v=CzrnOujf8YA</td>\n",
       "      <td>downloads/audio/CzrnOujf8YA.mp3</td>\n",
       "    </tr>\n",
       "  </tbody>\n",
       "</table>\n",
       "</div>"
      ],
      "text/plain": [
       "      video_id                                          url  \\\n",
       "0  eIK50QLHpOc  https://www.youtube.com/watch?v=eIK50QLHpOc   \n",
       "1  s-4yh3XY5wU  https://www.youtube.com/watch?v=s-4yh3XY5wU   \n",
       "2  T4g-OBXCy1k  https://www.youtube.com/watch?v=T4g-OBXCy1k   \n",
       "3  GIvmfBuAQIw  https://www.youtube.com/watch?v=GIvmfBuAQIw   \n",
       "4  CzrnOujf8YA  https://www.youtube.com/watch?v=CzrnOujf8YA   \n",
       "\n",
       "                        audio_path  \n",
       "0  downloads/audio/eIK50QLHpOc.mp3  \n",
       "1  downloads/audio/s-4yh3XY5wU.mp3  \n",
       "2  downloads/audio/T4g-OBXCy1k.mp3  \n",
       "3  downloads/audio/GIvmfBuAQIw.mp3  \n",
       "4  downloads/audio/CzrnOujf8YA.mp3  "
      ]
     },
     "execution_count": 15,
     "metadata": {},
     "output_type": "execute_result"
    }
   ],
   "source": [
    "df['audio_path'] = \"downloads/audio/\" + df['video_id'] + \".mp3\"\n",
    "df"
   ]
  },
  {
   "cell_type": "code",
   "execution_count": 31,
   "metadata": {},
   "outputs": [
    {
     "name": "stderr",
     "output_type": "stream",
     "text": [
      "Lightning automatically upgraded your loaded checkpoint from v1.5.4 to v2.0.7. To apply the upgrade to your files permanently, run `python -m pytorch_lightning.utilities.upgrade_checkpoint --file ../../../../../../../.pyenv/versions/3.10.13/lib/python3.10/site-packages/whisperx/assets/pytorch_model.bin`\n"
     ]
    },
    {
     "name": "stdout",
     "output_type": "stream",
     "text": [
      "Model was trained with pyannote.audio 0.0.1, yours is 3.3.2. Bad things might happen unless you revert pyannote.audio to 0.x.\n",
      "Model was trained with torch 1.10.0+cu102, yours is 2.5.1. Bad things might happen unless you revert torch to 1.x.\n"
     ]
    },
    {
     "data": {
      "application/vnd.jupyter.widget-view+json": {
       "model_id": "2b6d44281a0643ec8eb186c8b28abc72",
       "version_major": 2,
       "version_minor": 0
      },
      "text/plain": [
       "  0%|          | 0/5 [00:00<?, ?it/s]"
      ]
     },
     "metadata": {},
     "output_type": "display_data"
    },
    {
     "name": "stdout",
     "output_type": "stream",
     "text": [
      "CPU times: user 12min 54s, sys: 2min 52s, total: 15min 46s\n",
      "Wall time: 2min 32s\n"
     ]
    },
    {
     "data": {
      "text/html": [
       "<div>\n",
       "<style scoped>\n",
       "    .dataframe tbody tr th:only-of-type {\n",
       "        vertical-align: middle;\n",
       "    }\n",
       "\n",
       "    .dataframe tbody tr th {\n",
       "        vertical-align: top;\n",
       "    }\n",
       "\n",
       "    .dataframe thead th {\n",
       "        text-align: right;\n",
       "    }\n",
       "</style>\n",
       "<table border=\"1\" class=\"dataframe\">\n",
       "  <thead>\n",
       "    <tr style=\"text-align: right;\">\n",
       "      <th></th>\n",
       "      <th>video_id</th>\n",
       "      <th>url</th>\n",
       "      <th>audio_path</th>\n",
       "      <th>text</th>\n",
       "    </tr>\n",
       "  </thead>\n",
       "  <tbody>\n",
       "    <tr>\n",
       "      <th>0</th>\n",
       "      <td>eIK50QLHpOc</td>\n",
       "      <td>https://www.youtube.com/watch?v=eIK50QLHpOc</td>\n",
       "      <td>downloads/audio/eIK50QLHpOc.mp3</td>\n",
       "      <td>Welcome to Vancouver Carpenter.\\nSo are those...</td>\n",
       "    </tr>\n",
       "    <tr>\n",
       "      <th>1</th>\n",
       "      <td>s-4yh3XY5wU</td>\n",
       "      <td>https://www.youtube.com/watch?v=s-4yh3XY5wU</td>\n",
       "      <td>downloads/audio/s-4yh3XY5wU.mp3</td>\n",
       "      <td>Hello and welcome to Vancouver Carpenter.\\nIf...</td>\n",
       "    </tr>\n",
       "    <tr>\n",
       "      <th>2</th>\n",
       "      <td>T4g-OBXCy1k</td>\n",
       "      <td>https://www.youtube.com/watch?v=T4g-OBXCy1k</td>\n",
       "      <td>downloads/audio/T4g-OBXCy1k.mp3</td>\n",
       "      <td>Welcome back to Vancouver Carpenter.\\nSo I ge...</td>\n",
       "    </tr>\n",
       "    <tr>\n",
       "      <th>3</th>\n",
       "      <td>GIvmfBuAQIw</td>\n",
       "      <td>https://www.youtube.com/watch?v=GIvmfBuAQIw</td>\n",
       "      <td>downloads/audio/GIvmfBuAQIw.mp3</td>\n",
       "      <td>Hello and welcome to Vancouver Carpenter.\\nSo...</td>\n",
       "    </tr>\n",
       "    <tr>\n",
       "      <th>4</th>\n",
       "      <td>CzrnOujf8YA</td>\n",
       "      <td>https://www.youtube.com/watch?v=CzrnOujf8YA</td>\n",
       "      <td>downloads/audio/CzrnOujf8YA.mp3</td>\n",
       "      <td>Welcome to Vancouver Carpenter.\\nToday's vide...</td>\n",
       "    </tr>\n",
       "  </tbody>\n",
       "</table>\n",
       "</div>"
      ],
      "text/plain": [
       "      video_id                                          url  \\\n",
       "0  eIK50QLHpOc  https://www.youtube.com/watch?v=eIK50QLHpOc   \n",
       "1  s-4yh3XY5wU  https://www.youtube.com/watch?v=s-4yh3XY5wU   \n",
       "2  T4g-OBXCy1k  https://www.youtube.com/watch?v=T4g-OBXCy1k   \n",
       "3  GIvmfBuAQIw  https://www.youtube.com/watch?v=GIvmfBuAQIw   \n",
       "4  CzrnOujf8YA  https://www.youtube.com/watch?v=CzrnOujf8YA   \n",
       "\n",
       "                        audio_path  \\\n",
       "0  downloads/audio/eIK50QLHpOc.mp3   \n",
       "1  downloads/audio/s-4yh3XY5wU.mp3   \n",
       "2  downloads/audio/T4g-OBXCy1k.mp3   \n",
       "3  downloads/audio/GIvmfBuAQIw.mp3   \n",
       "4  downloads/audio/CzrnOujf8YA.mp3   \n",
       "\n",
       "                                                text  \n",
       "0   Welcome to Vancouver Carpenter.\\nSo are those...  \n",
       "1   Hello and welcome to Vancouver Carpenter.\\nIf...  \n",
       "2   Welcome back to Vancouver Carpenter.\\nSo I ge...  \n",
       "3   Hello and welcome to Vancouver Carpenter.\\nSo...  \n",
       "4   Welcome to Vancouver Carpenter.\\nToday's vide...  "
      ]
     },
     "execution_count": 31,
     "metadata": {},
     "output_type": "execute_result"
    }
   ],
   "source": [
    "%%time\n",
    "import whisperx\n",
    "import torch\n",
    "\n",
    "from tqdm.notebook import tqdm\n",
    "tqdm.pandas()\n",
    "\n",
    "device = \"cuda\" if torch.cuda.is_available() else \"cpu\"\n",
    "batch_size = 16 if device == \"cuda\" else 4\n",
    "compute_type = \"float16\" if device == \"cuda\" else \"int8\" \n",
    "\n",
    "model = whisperx.load_model(\"tiny.en\", device, compute_type=compute_type)\n",
    "\n",
    "def get_text(video_id):\n",
    "    try:\n",
    "        audio_file = f\"downloads/audio/{video_id}.mp3\"\n",
    "        audio = whisperx.load_audio(audio_file)\n",
    "        result = model.transcribe(audio, batch_size=batch_size)\n",
    "        \n",
    "        model_a, metadata = whisperx.load_align_model(language_code=result[\"language\"], device=device)\n",
    "        result = whisperx.align(result[\"segments\"], model_a, metadata, audio, device, return_char_alignments=False)\n",
    "        \n",
    "        text = '\\n'.join([segment['text'] for segment in result['segments']])\n",
    "        return text\n",
    "    except Exception as e:\n",
    "        print(f\"Error with {video_id}: {e}\")\n",
    "        return None\n",
    "\n",
    "df['text'] = df.video_id.progress_apply(get_text)"
   ]
  },
  {
   "cell_type": "code",
   "execution_count": 33,
   "metadata": {},
   "outputs": [
    {
     "data": {
      "text/html": [
       "<div>\n",
       "<style scoped>\n",
       "    .dataframe tbody tr th:only-of-type {\n",
       "        vertical-align: middle;\n",
       "    }\n",
       "\n",
       "    .dataframe tbody tr th {\n",
       "        vertical-align: top;\n",
       "    }\n",
       "\n",
       "    .dataframe thead th {\n",
       "        text-align: right;\n",
       "    }\n",
       "</style>\n",
       "<table border=\"1\" class=\"dataframe\">\n",
       "  <thead>\n",
       "    <tr style=\"text-align: right;\">\n",
       "      <th></th>\n",
       "      <th>video_id</th>\n",
       "      <th>url</th>\n",
       "      <th>audio_path</th>\n",
       "      <th>text</th>\n",
       "    </tr>\n",
       "  </thead>\n",
       "  <tbody>\n",
       "    <tr>\n",
       "      <th>0</th>\n",
       "      <td>eIK50QLHpOc</td>\n",
       "      <td>https://www.youtube.com/watch?v=eIK50QLHpOc</td>\n",
       "      <td>downloads/audio/eIK50QLHpOc.mp3</td>\n",
       "      <td>Welcome to Vancouver Carpenter.\\nSo are those...</td>\n",
       "    </tr>\n",
       "    <tr>\n",
       "      <th>1</th>\n",
       "      <td>s-4yh3XY5wU</td>\n",
       "      <td>https://www.youtube.com/watch?v=s-4yh3XY5wU</td>\n",
       "      <td>downloads/audio/s-4yh3XY5wU.mp3</td>\n",
       "      <td>Hello and welcome to Vancouver Carpenter.\\nIf...</td>\n",
       "    </tr>\n",
       "    <tr>\n",
       "      <th>2</th>\n",
       "      <td>T4g-OBXCy1k</td>\n",
       "      <td>https://www.youtube.com/watch?v=T4g-OBXCy1k</td>\n",
       "      <td>downloads/audio/T4g-OBXCy1k.mp3</td>\n",
       "      <td>Welcome back to Vancouver Carpenter.\\nSo I ge...</td>\n",
       "    </tr>\n",
       "    <tr>\n",
       "      <th>3</th>\n",
       "      <td>GIvmfBuAQIw</td>\n",
       "      <td>https://www.youtube.com/watch?v=GIvmfBuAQIw</td>\n",
       "      <td>downloads/audio/GIvmfBuAQIw.mp3</td>\n",
       "      <td>Hello and welcome to Vancouver Carpenter.\\nSo...</td>\n",
       "    </tr>\n",
       "    <tr>\n",
       "      <th>4</th>\n",
       "      <td>CzrnOujf8YA</td>\n",
       "      <td>https://www.youtube.com/watch?v=CzrnOujf8YA</td>\n",
       "      <td>downloads/audio/CzrnOujf8YA.mp3</td>\n",
       "      <td>Welcome to Vancouver Carpenter.\\nToday's vide...</td>\n",
       "    </tr>\n",
       "  </tbody>\n",
       "</table>\n",
       "</div>"
      ],
      "text/plain": [
       "      video_id                                          url  \\\n",
       "0  eIK50QLHpOc  https://www.youtube.com/watch?v=eIK50QLHpOc   \n",
       "1  s-4yh3XY5wU  https://www.youtube.com/watch?v=s-4yh3XY5wU   \n",
       "2  T4g-OBXCy1k  https://www.youtube.com/watch?v=T4g-OBXCy1k   \n",
       "3  GIvmfBuAQIw  https://www.youtube.com/watch?v=GIvmfBuAQIw   \n",
       "4  CzrnOujf8YA  https://www.youtube.com/watch?v=CzrnOujf8YA   \n",
       "\n",
       "                        audio_path  \\\n",
       "0  downloads/audio/eIK50QLHpOc.mp3   \n",
       "1  downloads/audio/s-4yh3XY5wU.mp3   \n",
       "2  downloads/audio/T4g-OBXCy1k.mp3   \n",
       "3  downloads/audio/GIvmfBuAQIw.mp3   \n",
       "4  downloads/audio/CzrnOujf8YA.mp3   \n",
       "\n",
       "                                                text  \n",
       "0   Welcome to Vancouver Carpenter.\\nSo are those...  \n",
       "1   Hello and welcome to Vancouver Carpenter.\\nIf...  \n",
       "2   Welcome back to Vancouver Carpenter.\\nSo I ge...  \n",
       "3   Hello and welcome to Vancouver Carpenter.\\nSo...  \n",
       "4   Welcome to Vancouver Carpenter.\\nToday's vide...  "
      ]
     },
     "execution_count": 33,
     "metadata": {},
     "output_type": "execute_result"
    }
   ],
   "source": [
    "df.head()"
   ]
  },
  {
   "cell_type": "code",
   "execution_count": null,
   "metadata": {},
   "outputs": [],
   "source": []
  }
 ],
 "metadata": {
  "kernelspec": {
   "display_name": "Python 3 (ipykernel)",
   "language": "python",
   "name": "python3"
  },
  "language_info": {
   "codemirror_mode": {
    "name": "ipython",
    "version": 3
   },
   "file_extension": ".py",
   "mimetype": "text/x-python",
   "name": "python",
   "nbconvert_exporter": "python",
   "pygments_lexer": "ipython3",
   "version": "3.10.13"
  }
 },
 "nbformat": 4,
 "nbformat_minor": 4
}
